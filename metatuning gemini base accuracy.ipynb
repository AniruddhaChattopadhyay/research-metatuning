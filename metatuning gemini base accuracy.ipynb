{
 "cells": [
  {
   "cell_type": "code",
   "execution_count": 6,
   "metadata": {},
   "outputs": [
    {
     "data": {
      "text/plain": [
       "True"
      ]
     },
     "execution_count": 6,
     "metadata": {},
     "output_type": "execute_result"
    }
   ],
   "source": [
    "import pandas as pd\n",
    "from litellm import completion\n",
    "import litellm\n",
    "import os\n",
    "litellm.enable_json_schema_validation = True\n",
    "litellm.set_verbose = True\n",
    "import json\n",
    "from litellm import ModelResponse\n",
    "from dotenv import load_dotenv\n",
    "from judge import Judge\n",
    "load_dotenv()\n"
   ]
  },
  {
   "cell_type": "code",
   "execution_count": 16,
   "metadata": {},
   "outputs": [],
   "source": [
    "try:\n",
    "    df = pd.read_csv(\"base accuracy 100 gemini.csv\")\n",
    "except FileNotFoundError:\n",
    "    df = pd.read_csv(\"100_data_math500.csv\")"
   ]
  },
  {
   "cell_type": "code",
   "execution_count": 15,
   "metadata": {},
   "outputs": [],
   "source": [
    "from pydantic import BaseModel\n",
    "class Answer(BaseModel):\n",
    "  reasoning: str\n",
    "  answer: str\n",
    "\n",
    "response_schema_answer = {\n",
    "    \"type\": \"object\",\n",
    "    \"properties\": {\n",
    "        \"reasoning\": {\n",
    "            \"type\": \"string\"\n",
    "        },\n",
    "        \"answer\": {\n",
    "            \"type\": \"string\"\n",
    "        }\n",
    "    },\n",
    "    \"required\": [\"reasoning\", \"answer\"]\n",
    "}\n"
   ]
  },
  {
   "cell_type": "code",
   "execution_count": 9,
   "metadata": {},
   "outputs": [],
   "source": [
    "def process_math_problems(df, start_idx:int, end_idx:int):\n",
    "    for idx in range(start_idx, min(len(df), end_idx + 1)):\n",
    "        problem = df.iloc[idx]['problem']\n",
    "        answer = df.iloc[idx][\"answer\"]\n",
    "        response = completion(model='gemini/gemini-1.5-flash', messages=[\n",
    "            {\n",
    "                'role': 'system',\n",
    "                'content': '''Be a helpful assistant.\n",
    "                You need to just give me the final answer and no other text. Don't tell the steps. Just give the final output for the answer key \n",
    "                and your reasoning in the reasoning key. \n",
    "                \n",
    "                example:\n",
    "                user query: What is the area of a rectangle with length 3cm and breadth 4cm. \n",
    "                assistant output: \n",
    "                {\n",
    "                    \"reasoning\": \"area of a rectangle is length * breadth, so here it will be 3cm*4cm which is 12cm squared.\"\n",
    "                    \"answer\" : \"area is 12 cm squared.\"\n",
    "                }\n",
    "                ''',\n",
    "            },\n",
    "            {\n",
    "                'role': 'user',\n",
    "                'content': problem,\n",
    "            }],\n",
    "            response_format={\"type\": \"json_object\", \"response_schema\": response_schema_answer}\n",
    "        )\n",
    "        answer_content = response.choices[0]['message']['content']\n",
    "\n",
    "        answer_obj = Answer.model_validate_json(answer_content)\n",
    "        llm_answer = answer_obj.answer\n",
    "\n",
    "        judge = Judge(model='gemini/gemini-2.0-flash')\n",
    "        answer_correctness_obj = judge.prediction(query=df.iloc[idx]['problem'],answer1=answer,answer2=llm_answer)\n",
    "        \n",
    "        df.at[idx, 'llm_raw_response'] = answer_content\n",
    "        df.at[idx, 'llm_answer'] = llm_answer\n",
    "        df.at[idx, 'is_correct'] = answer_correctness_obj.correct\n",
    "        \n",
    "        print(f\"Processed row {idx}\")\n"
   ]
  },
  {
   "cell_type": "code",
   "execution_count": null,
   "metadata": {},
   "outputs": [],
   "source": [
    "process_math_problems(df,start_idx=69,end_idx=100)"
   ]
  },
  {
   "cell_type": "code",
   "execution_count": 11,
   "metadata": {},
   "outputs": [],
   "source": [
    "df.to_csv(\"base accuracy 100 gemini.csv\")"
   ]
  },
  {
   "cell_type": "code",
   "execution_count": 12,
   "metadata": {},
   "outputs": [
    {
     "data": {
      "text/plain": [
       "is_correct\n",
       "False    57\n",
       "True     43\n",
       "Name: count, dtype: int64"
      ]
     },
     "execution_count": 12,
     "metadata": {},
     "output_type": "execute_result"
    }
   ],
   "source": [
    "df['is_correct'].value_counts()"
   ]
  },
  {
   "cell_type": "code",
   "execution_count": null,
   "metadata": {},
   "outputs": [],
   "source": []
  }
 ],
 "metadata": {
  "kernelspec": {
   "display_name": "general",
   "language": "python",
   "name": "python3"
  },
  "language_info": {
   "codemirror_mode": {
    "name": "ipython",
    "version": 3
   },
   "file_extension": ".py",
   "mimetype": "text/x-python",
   "name": "python",
   "nbconvert_exporter": "python",
   "pygments_lexer": "ipython3",
   "version": "3.11.9"
  }
 },
 "nbformat": 4,
 "nbformat_minor": 2
}
