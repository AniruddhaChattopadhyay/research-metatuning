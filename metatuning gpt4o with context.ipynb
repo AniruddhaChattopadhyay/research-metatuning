{
 "cells": [
  {
   "cell_type": "code",
   "execution_count": 1,
   "metadata": {},
   "outputs": [
    {
     "data": {
      "text/plain": [
       "True"
      ]
     },
     "execution_count": 1,
     "metadata": {},
     "output_type": "execute_result"
    }
   ],
   "source": [
    "import pandas as pd\n",
    "from litellm import completion\n",
    "import litellm\n",
    "import os\n",
    "litellm.enable_json_schema_validation = True\n",
    "litellm.set_verbose = True\n",
    "from judge import Judge\n",
    "import json\n",
    "from litellm import ModelResponse\n",
    "from dotenv import load_dotenv\n",
    "load_dotenv()"
   ]
  },
  {
   "cell_type": "code",
   "execution_count": 2,
   "metadata": {},
   "outputs": [],
   "source": [
    "context_rows = 30"
   ]
  },
  {
   "cell_type": "code",
   "execution_count": 3,
   "metadata": {},
   "outputs": [],
   "source": [
    "df = pd.read_csv(\"gpt4o with context.csv\")"
   ]
  },
  {
   "cell_type": "code",
   "execution_count": 60,
   "metadata": {},
   "outputs": [],
   "source": [
    "from pydantic import BaseModel\n",
    "class Answer(BaseModel):\n",
    "  reasoning: str\n",
    "  answer: str\n",
    "\n"
   ]
  },
  {
   "cell_type": "code",
   "execution_count": 61,
   "metadata": {},
   "outputs": [],
   "source": [
    "def generate_training_messages(df, start_idx:int, num_rows:int):\n",
    "    end_idx = min(start_idx + num_rows, len(df))\n",
    "    messages = [{\n",
    "                'role': 'system',\n",
    "                'content': '''Be a helpful assistant.\n",
    "                You need to just give me the final answer and no other text. Don't tell the steps. Just give the final output for the answer key \n",
    "                and your reasoning in the reasoning key. \n",
    "                \n",
    "                example:\n",
    "                user query: What is the area of a rectangle with length 3cm and breadth 4cm. \n",
    "                assistant output: \n",
    "                {\n",
    "                    \"reasoning\": \"area of a rectangle is length * breadth, so here it will be 3cm*4cm which is 12cm squared.\"\n",
    "                    \"answer\" : \"area is 12 cm squared.\"\n",
    "                }\n",
    "                ''',\n",
    "            }]\n",
    "    for idx in range(start_idx, end_idx):\n",
    "        row = df.iloc[idx]\n",
    "        \n",
    "        # Base messages that are common for all examples\n",
    "        messages.extend([\n",
    "            {\n",
    "                'role': 'user',\n",
    "                'content': row['problem']\n",
    "            },\n",
    "            {\n",
    "                'role': 'assistant',\n",
    "                'content': row['llm_raw_response']\n",
    "            }\n",
    "        ])\n",
    "        \n",
    "        # Add feedback based on correctness\n",
    "        if not row['is_correct']:\n",
    "            messages.append({\n",
    "                'role': 'user',\n",
    "                'content': f\"Let me correct this. The right answer is {row['answer']}. Let's understand the solution: {row['solution']}\"\n",
    "            })\n",
    "        else:\n",
    "            messages.append({\n",
    "                'role': 'user',\n",
    "                'content': \"Good job! Your reasoning and answer are correct!\"\n",
    "            })\n",
    "        messages.append({\n",
    "            'role': 'assistant',\n",
    "            'content': \"Understood. I will keep this in mind\"\n",
    "        })\n",
    "            \n",
    "       \n",
    "    \n",
    "    return messages"
   ]
  },
  {
   "cell_type": "code",
   "execution_count": 62,
   "metadata": {},
   "outputs": [],
   "source": [
    "training_data = generate_training_messages(df,start_idx=0,num_rows=context_rows)"
   ]
  },
  {
   "cell_type": "code",
   "execution_count": null,
   "metadata": {},
   "outputs": [],
   "source": [
    "len(training_data)"
   ]
  },
  {
   "cell_type": "code",
   "execution_count": 64,
   "metadata": {},
   "outputs": [],
   "source": [
    "def test_process_math_problems_te(df, start_idx:int, end_idx:int):\n",
    "    for idx in range(start_idx, min(len(df), end_idx + 1)):\n",
    "        problem = df.iloc[idx]['problem']\n",
    "        answer = df.iloc[idx][\"answer\"]\n",
    "        messages = training_data + [\n",
    "            {\n",
    "                'role': 'system',\n",
    "                'content': '''Be a helpful assistant.\n",
    "                You need to just give me the final answer and no other text. Don't tell the steps. Just give the final output for the answer key \n",
    "                and your reasoning in the reasoning key. \n",
    "                \n",
    "                example:\n",
    "                user query: What is the area of a rectangle with length 3cm and breadth 4cm. \n",
    "                assistant output: \n",
    "                {\n",
    "                    \"reasoning\": \"area of a rectangle is length * breadth, so here it will be 3cm*4cm which is 12cm squared.\"\n",
    "                    \"answer\" : \"area is 12 cm squared.\"\n",
    "                }\n",
    "                ''',\n",
    "            },\n",
    "            {\n",
    "                'role': 'user',\n",
    "                'content': problem,\n",
    "            }]\n",
    "        \n",
    "        response = completion(model='gpt-4o', messages=messages,\n",
    "            response_format=Answer\n",
    "        )\n",
    "        answer_content = response.choices[0]['message']['content']\n",
    "\n",
    "        answer_obj = Answer.model_validate_json(answer_content)\n",
    "        llm_answer = answer_obj.answer\n",
    "\n",
    "        judge = Judge(model='gemini/gemini-2.0-flash')\n",
    "        answer_correctness_obj = judge.prediction(query=df.iloc[idx]['problem'],answer1=answer,answer2=llm_answer)\n",
    "        \n",
    "        df.at[idx, f'llm_raw_response_test_context_{context_rows}'] = answer_content\n",
    "        df.at[idx, f'llm_answer_test_{context_rows}'] = llm_answer\n",
    "        df.at[idx, f'is_correct_test_{context_rows}'] = answer_correctness_obj.correct\n",
    "        \n",
    "        print(f\"Processed row {idx}\")\n"
   ]
  },
  {
   "cell_type": "code",
   "execution_count": null,
   "metadata": {},
   "outputs": [],
   "source": [
    "test_process_math_problems_te(df,start_idx=context_rows,end_idx=100)"
   ]
  },
  {
   "cell_type": "code",
   "execution_count": 66,
   "metadata": {},
   "outputs": [],
   "source": [
    "df.to_csv('gpt4o with context.csv')"
   ]
  },
  {
   "cell_type": "code",
   "execution_count": 4,
   "metadata": {},
   "outputs": [],
   "source": [
    "df = pd.read_csv('gpt4o with context.csv')"
   ]
  },
  {
   "cell_type": "code",
   "execution_count": 5,
   "metadata": {},
   "outputs": [],
   "source": [
    "df_test = df.iloc[context_rows:100]"
   ]
  },
  {
   "cell_type": "code",
   "execution_count": 6,
   "metadata": {},
   "outputs": [
    {
     "data": {
      "text/plain": [
       "is_correct\n",
       "True     47\n",
       "False    23\n",
       "Name: count, dtype: int64"
      ]
     },
     "execution_count": 6,
     "metadata": {},
     "output_type": "execute_result"
    }
   ],
   "source": [
    "df_test['is_correct'].value_counts()"
   ]
  },
  {
   "cell_type": "code",
   "execution_count": 7,
   "metadata": {},
   "outputs": [
    {
     "data": {
      "text/plain": [
       "is_correct_test_30\n",
       "True     45\n",
       "False    25\n",
       "Name: count, dtype: int64"
      ]
     },
     "execution_count": 7,
     "metadata": {},
     "output_type": "execute_result"
    }
   ],
   "source": [
    "df_test[f'is_correct_test_{context_rows}'].value_counts()"
   ]
  },
  {
   "cell_type": "code",
   "execution_count": 12,
   "metadata": {},
   "outputs": [
    {
     "name": "stderr",
     "output_type": "stream",
     "text": [
      "/var/folders/yx/5c9yh5jn1hxgw1_0s05ml2g40000gn/T/ipykernel_74226/2734631427.py:1: FutureWarning: Series.__getitem__ treating keys as positions is deprecated. In a future version, integer keys will always be treated as labels (consistent with DataFrame behavior). To access a value by position, use `ser.iloc[pos]`\n",
      "  df_test[f'is_correct_test_{context_rows}'].value_counts()[0]\n"
     ]
    },
    {
     "data": {
      "text/plain": [
       "45"
      ]
     },
     "execution_count": 12,
     "metadata": {},
     "output_type": "execute_result"
    }
   ],
   "source": [
    "df_test[f'is_correct_test_{context_rows}'].value_counts()[0]"
   ]
  },
  {
   "cell_type": "code",
   "execution_count": null,
   "metadata": {},
   "outputs": [],
   "source": []
  }
 ],
 "metadata": {
  "kernelspec": {
   "display_name": "general",
   "language": "python",
   "name": "python3"
  },
  "language_info": {
   "codemirror_mode": {
    "name": "ipython",
    "version": 3
   },
   "file_extension": ".py",
   "mimetype": "text/x-python",
   "name": "python",
   "nbconvert_exporter": "python",
   "pygments_lexer": "ipython3",
   "version": "3.11.9"
  }
 },
 "nbformat": 4,
 "nbformat_minor": 2
}
