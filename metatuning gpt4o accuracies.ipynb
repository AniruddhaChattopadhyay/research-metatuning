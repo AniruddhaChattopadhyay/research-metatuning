{
 "cells": [
  {
   "cell_type": "code",
   "execution_count": 1,
   "metadata": {},
   "outputs": [
    {
     "data": {
      "text/plain": [
       "True"
      ]
     },
     "execution_count": 1,
     "metadata": {},
     "output_type": "execute_result"
    }
   ],
   "source": [
    "import pandas as pd\n",
    "from litellm import completion\n",
    "import litellm\n",
    "import os\n",
    "litellm.enable_json_schema_validation = True\n",
    "litellm.set_verbose = True\n",
    "from judge import Judge\n",
    "import json\n",
    "from litellm import ModelResponse\n",
    "from dotenv import load_dotenv\n",
    "load_dotenv()\n"
   ]
  },
  {
   "cell_type": "code",
   "execution_count": 2,
   "metadata": {},
   "outputs": [],
   "source": [
    "df = pd.read_csv('gpt4o with context.csv')"
   ]
  },
  {
   "cell_type": "code",
   "execution_count": 7,
   "metadata": {},
   "outputs": [],
   "source": [
    "def get_accuracy_for_context_size(context_size:int):\n",
    "    df_test = df.iloc[context_size:100]\n",
    "    \n",
    "    # Get value counts for baseline (without metatuning)\n",
    "    wo_metatuning_counts = df_test['is_correct'].value_counts()\n",
    "    true_wo_metatuning = wo_metatuning_counts.get(True, 0)\n",
    "    false_wo_metatuning = wo_metatuning_counts.get(False, 0)\n",
    "\n",
    "    # Get value counts for metatuning results\n",
    "    with_metatuning_counts = df_test[f'is_correct_test_{context_size}'].value_counts()\n",
    "    true_with_metatuning = with_metatuning_counts.get(True, 0)\n",
    "    false_with_metatuning = with_metatuning_counts.get(False, 0)\n",
    "\n",
    "    print(\"*\"*50)\n",
    "    print(f\"For context length : {context_size}\")\n",
    "    print(\"Without Metatuning\")\n",
    "    print(f\"True:{true_wo_metatuning}\")\n",
    "    print(f'False:{false_wo_metatuning}')\n",
    "    print('\\n')\n",
    "    print(\"With Metatuning\")\n",
    "    print(f\"True:{true_with_metatuning}\")\n",
    "    print(f'False:{false_with_metatuning}')\n",
    "    print(\"#\"*50)"
   ]
  },
  {
   "cell_type": "code",
   "execution_count": 8,
   "metadata": {},
   "outputs": [
    {
     "name": "stdout",
     "output_type": "stream",
     "text": [
      "**************************************************\n",
      "For context length : 5\n",
      "Without Metatuning\n",
      "True:62\n",
      "False:33\n",
      "\n",
      "\n",
      "With Metatuning\n",
      "True:64\n",
      "False:31\n",
      "##################################################\n",
      "**************************************************\n",
      "For context length : 10\n",
      "Without Metatuning\n",
      "True:59\n",
      "False:31\n",
      "\n",
      "\n",
      "With Metatuning\n",
      "True:64\n",
      "False:26\n",
      "##################################################\n",
      "**************************************************\n",
      "For context length : 20\n",
      "Without Metatuning\n",
      "True:52\n",
      "False:28\n",
      "\n",
      "\n",
      "With Metatuning\n",
      "True:52\n",
      "False:28\n",
      "##################################################\n",
      "**************************************************\n",
      "For context length : 30\n",
      "Without Metatuning\n",
      "True:47\n",
      "False:23\n",
      "\n",
      "\n",
      "With Metatuning\n",
      "True:45\n",
      "False:25\n",
      "##################################################\n",
      "**************************************************\n",
      "For context length : 40\n",
      "Without Metatuning\n",
      "True:40\n",
      "False:20\n",
      "\n",
      "\n",
      "With Metatuning\n",
      "True:40\n",
      "False:20\n",
      "##################################################\n"
     ]
    }
   ],
   "source": [
    "context_size = [5,10,20,30,40]\n",
    "\n",
    "for context in context_size:\n",
    "    get_accuracy_for_context_size(context_size=context)"
   ]
  },
  {
   "cell_type": "code",
   "execution_count": null,
   "metadata": {},
   "outputs": [],
   "source": []
  }
 ],
 "metadata": {
  "kernelspec": {
   "display_name": "general",
   "language": "python",
   "name": "python3"
  },
  "language_info": {
   "codemirror_mode": {
    "name": "ipython",
    "version": 3
   },
   "file_extension": ".py",
   "mimetype": "text/x-python",
   "name": "python",
   "nbconvert_exporter": "python",
   "pygments_lexer": "ipython3",
   "version": "3.11.9"
  }
 },
 "nbformat": 4,
 "nbformat_minor": 2
}
