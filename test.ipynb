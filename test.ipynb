{
 "cells": [
  {
   "cell_type": "code",
   "execution_count": 5,
   "metadata": {},
   "outputs": [],
   "source": [
    "\n",
    "from pydantic import BaseModel\n",
    "from litellm import completion\n",
    "\n",
    "class AnswerCorrectness(BaseModel):\n",
    "  correct:bool\n",
    "\n",
    "response_schema_answer_correctness = {\n",
    "    \"type\": \"object\",\n",
    "    \"properties\": {\n",
    "        \"correct\": {\n",
    "            \"type\": \"boolean\"\n",
    "        },\n",
    "    },\n",
    "    \"required\": [\"correct\"]\n",
    "}"
   ]
  },
  {
   "cell_type": "code",
   "execution_count": 6,
   "metadata": {},
   "outputs": [],
   "source": [
    "response_format = {\"type\": \"json_object\", \"response_schema\": response_schema_answer_correctness}\n",
    "response = completion(model='gemini/gemini-2.0-flash', messages=[\n",
    "            {\n",
    "                'role': 'system',\n",
    "                'content': '''You are an intellegent maths professor. I will give you 2 answers.\n",
    "                    One Model answer and one student answer. You determine whether the answer is right or wrong. \n",
    "                    Return a json with key are correct and value as True or False depeding on your evaluation. \n",
    "                    I will also give you the actual problem, for your reference. Don't solve the problem. \n",
    "                    You are just to look at the two answer and judge whether the 2 answers are similar.''',\n",
    "            },\n",
    "            {\n",
    "                'role': 'user',\n",
    "                'content': f'Model Answer : 9, Student Answer : 11, problem : sum of 3 and 6',\n",
    "            },\n",
    "        ], \n",
    "        response_format=response_format)\n"
   ]
  },
  {
   "cell_type": "code",
   "execution_count": 8,
   "metadata": {},
   "outputs": [
    {
     "data": {
      "text/plain": [
       "'{\\n\"correct\": false\\n}'"
      ]
     },
     "execution_count": 8,
     "metadata": {},
     "output_type": "execute_result"
    }
   ],
   "source": [
    "response.choices[0]['message']['content']"
   ]
  },
  {
   "cell_type": "code",
   "execution_count": 9,
   "metadata": {},
   "outputs": [],
   "source": [
    "answer_correctness = response.choices[0]['message']['content']\n",
    "answer_correctness_obj = AnswerCorrectness.model_validate_json(answer_correctness)"
   ]
  },
  {
   "cell_type": "code",
   "execution_count": 10,
   "metadata": {},
   "outputs": [
    {
     "data": {
      "text/plain": [
       "AnswerCorrectness(correct=False)"
      ]
     },
     "execution_count": 10,
     "metadata": {},
     "output_type": "execute_result"
    }
   ],
   "source": [
    "answer_correctness_obj"
   ]
  },
  {
   "cell_type": "code",
   "execution_count": null,
   "metadata": {},
   "outputs": [],
   "source": []
  }
 ],
 "metadata": {
  "kernelspec": {
   "display_name": "general",
   "language": "python",
   "name": "python3"
  },
  "language_info": {
   "codemirror_mode": {
    "name": "ipython",
    "version": 3
   },
   "file_extension": ".py",
   "mimetype": "text/x-python",
   "name": "python",
   "nbconvert_exporter": "python",
   "pygments_lexer": "ipython3",
   "version": "3.11.9"
  }
 },
 "nbformat": 4,
 "nbformat_minor": 2
}
